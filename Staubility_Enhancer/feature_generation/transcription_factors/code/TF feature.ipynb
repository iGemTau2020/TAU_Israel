{
 "cells": [
  {
   "cell_type": "code",
   "execution_count": null,
   "metadata": {},
   "outputs": [],
   "source": [
    "import pandas as pd\n",
    "import numpy as np\n",
    "from os import chdir"
   ]
  },
  {
   "cell_type": "code",
   "execution_count": null,
   "metadata": {},
   "outputs": [],
   "source": [
    "directory =  r'../../features_from_10_genes_project/outputs'\n",
    "chdir(directory)\n"
   ]
  },
  {
   "cell_type": "code",
   "execution_count": null,
   "metadata": {},
   "outputs": [],
   "source": [
    "refrence_df = pd.read_csv(r'Not_normalized_table.csv', index_col='ORF')\n",
    "index_df = refrence_df.index.to_frame()\n"
   ]
  },
  {
   "cell_type": "code",
   "execution_count": null,
   "metadata": {},
   "outputs": [],
   "source": [
    "directory =  r'../inputs'\n",
    "chdir(directory)\n"
   ]
  },
  {
   "cell_type": "code",
   "execution_count": null,
   "metadata": {},
   "outputs": [],
   "source": [
    "part_one = pd.read_csv(r'genes_1_999.csv',  names= ['ORF', 'TF'])\n",
    "part_two = pd.read_csv(r'genes_1000_2999.csv',  names= ['ORF', 'TF'])\n",
    "part_three = pd.read_csv(r'genes_3000_4999.csv',  names= ['ORF', 'TF'])\n",
    "part_four = pd.read_csv(r'genes_5000_6714.csv',  names= ['ORF', 'TF'])"
   ]
  },
  {
   "cell_type": "code",
   "execution_count": null,
   "metadata": {},
   "outputs": [],
   "source": [
    "# Concating the tables of transcription factor\n",
    "objs = [part_one, part_two, part_three, part_four]\n",
    "full_table = pd.concat(objs, axis=0, join='outer', ignore_index=True, sort=False)\n",
    "full_table.to_csv('TF_merged_table.csv')"
   ]
  },
  {
   "cell_type": "code",
   "execution_count": null,
   "metadata": {},
   "outputs": [],
   "source": [
    "# Extracting how many transcription factores per gene\n",
    "num_TF = full_table.groupby('ORF').count()\n"
   ]
  },
  {
   "cell_type": "code",
   "execution_count": null,
   "metadata": {},
   "outputs": [],
   "source": [
    "final_df = index_df.merge(num_TF, how='left', left_index=True, right_index=True)\n",
    "final_df = final_df.drop('ORF', axis=1)\n"
   ]
  },
  {
   "cell_type": "code",
   "execution_count": null,
   "metadata": {},
   "outputs": [],
   "source": [
    "final_df.to_csv('../outputs/number_of_TF.csv')"
   ]
  },
  {
   "cell_type": "code",
   "execution_count": null,
   "metadata": {},
   "outputs": [],
   "source": []
  }
 ],
 "metadata": {
  "kernelspec": {
   "display_name": "Python 3",
   "language": "python",
   "name": "python3"
  },
  "language_info": {
   "codemirror_mode": {
    "name": "ipython",
    "version": 3
   },
   "file_extension": ".py",
   "mimetype": "text/x-python",
   "name": "python",
   "nbconvert_exporter": "python",
   "pygments_lexer": "ipython3",
   "version": "3.6.8"
  }
 },
 "nbformat": 4,
 "nbformat_minor": 4
}
