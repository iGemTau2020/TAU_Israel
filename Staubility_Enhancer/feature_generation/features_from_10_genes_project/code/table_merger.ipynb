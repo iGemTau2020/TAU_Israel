{
 "cells": [
  {
   "cell_type": "code",
   "execution_count": 1,
   "metadata": {},
   "outputs": [],
   "source": [
    "#!pip install xlrd"
   ]
  },
  {
   "cell_type": "code",
   "execution_count": 2,
   "metadata": {},
   "outputs": [],
   "source": [
    "import pandas as pd\n",
    "from os import chdir\n",
    "\n"
   ]
  },
  {
   "cell_type": "code",
   "execution_count": 3,
   "metadata": {},
   "outputs": [],
   "source": [
    "directory =  r'C:\\Users\\USER\\Desktop\\iGEM progect\\features\\data'\n",
    "chdir(directory)\n"
   ]
  },
  {
   "cell_type": "code",
   "execution_count": 4,
   "metadata": {},
   "outputs": [],
   "source": [
    "bio_features_df = pd.read_csv(r'bio_features.csv', index_col=0)\n",
    "fluorescence_data_df = pd.read_csv(r'fluorescence_featurs.csv', index_col=0) \n",
    "dnds_data_df = pd.read_csv(r'evolution_rate.csv')\n",
    "control_location_df = pd.read_excel(r'proteomesummarylatestversion.xlsx', usecols = ['ORF', 'control Localization']).rename(columns = {'control Localization':'control_location'})\n",
    "mRNA_df = pd.read_excel(r'WeillEtAlSupplementaryTable1.xlsx', sheet_name='Data', usecols = ['ORF', 'mRNA', 'mRNA half life'])\n",
    "gene_length_df = pd.read_csv('length_and_loc_features.csv')\n",
    "rank_data_df = pd.read_csv('rank_data_updated.csv')\n",
    "\n",
    "united_data = bio_features_df.merge(dnds_data_df, on = 'ORF', how = 'left')\n",
    "united_data = united_data.merge(fluorescence_data_df, on = 'ORF', how = 'left')\n",
    "united_data = united_data.merge(control_location_df, on = 'ORF', how = 'left')\n",
    "united_data = united_data.merge(mRNA_df, on = 'ORF', how = 'left')\n",
    "united_data = united_data.merge(gene_length_df, on = 'ORF', how = 'left')\n",
    "united_data = united_data.merge(rank_data_df, on = 'ORF', how = 'left')\n",
    "\n",
    "\n",
    "united_data.to_csv(r'full_table.csv')"
   ]
  },
  {
   "cell_type": "code",
   "execution_count": null,
   "metadata": {},
   "outputs": [],
   "source": []
  }
 ],
 "metadata": {
  "kernelspec": {
   "display_name": "Python 3",
   "language": "python",
   "name": "python3"
  },
  "language_info": {
   "codemirror_mode": {
    "name": "ipython",
    "version": 3
   },
   "file_extension": ".py",
   "mimetype": "text/x-python",
   "name": "python",
   "nbconvert_exporter": "python",
   "pygments_lexer": "ipython3",
   "version": "3.6.8"
  }
 },
 "nbformat": 4,
 "nbformat_minor": 4
}
