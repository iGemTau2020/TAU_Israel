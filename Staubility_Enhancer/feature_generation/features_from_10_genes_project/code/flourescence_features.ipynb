{
 "cells": [
  {
   "cell_type": "code",
   "execution_count": 1,
   "metadata": {},
   "outputs": [],
   "source": [
    "### this script based on fluorescence level for the localized files from Loqate"
   ]
  },
  {
   "cell_type": "code",
   "execution_count": 2,
   "metadata": {},
   "outputs": [],
   "source": [
    "from os import chdir\n",
    "import pandas as pd\n",
    "import glob"
   ]
  },
  {
   "cell_type": "code",
   "execution_count": 3,
   "metadata": {},
   "outputs": [],
   "source": [
    "directory = r'../inputs/localized'\n",
    "\n",
    "chdir(directory)\n"
   ]
  },
  {
   "cell_type": "code",
   "execution_count": 4,
   "metadata": {},
   "outputs": [],
   "source": [
    "def import_fluorescence_files():\n",
    "\n",
    "    ### get list of files from current folder. I downloaded a seperated file for each location of gene, as it gave a much more complete list\n",
    "    files = glob.glob(\"*.csv\")\n",
    "\n",
    "    ### concat into one file\n",
    "    fluorescence_list = []\n",
    "    for file in files:\n",
    "        curr_fluorescence = pd.read_csv(file)\n",
    "        fluorescence_list.append(curr_fluorescence)\n",
    "    fluorescence = pd.concat(fluorescence_list, sort=True)\n",
    "    fluorescence = fluorescence[[col for col in list(fluorescence) if col[:7]!= 'Unnamed']]\n",
    "    \n",
    "    ### drop duplicates for same genes on different locations. round first so drop duplicates not foiled by rounding errors\n",
    "    fluorescence = fluorescence.round(2).drop_duplicates()\n",
    "\n",
    "    fluorescence_new = fluorescence[['Gene Name']].drop_duplicates()\n",
    "    for col in list(fluorescence):\n",
    "        if col != 'Gene Name':\n",
    "            fluorescence_col = fluorescence[fluorescence[col].notnull()][['Gene Name', col]].drop_duplicates()\n",
    "            fluorescence_new = fluorescence_new.merge(fluorescence_col, on = 'Gene Name', how = 'left')\n",
    "\n",
    "    return fluorescence_new"
   ]
  },
  {
   "cell_type": "code",
   "execution_count": 5,
   "metadata": {},
   "outputs": [],
   "source": [
    "def main():\n",
    "    fluorescence = import_fluorescence_files()\n",
    "    fluorescence.to_csv(r'../inputs/fluorescence_featurs.csv')\n",
    "\n",
    "main()"
   ]
  },
  {
   "cell_type": "code",
   "execution_count": null,
   "metadata": {},
   "outputs": [],
   "source": []
  }
 ],
 "metadata": {
  "kernelspec": {
   "display_name": "Python 3",
   "language": "python",
   "name": "python3"
  },
  "language_info": {
   "codemirror_mode": {
    "name": "ipython",
    "version": 3
   },
   "file_extension": ".py",
   "mimetype": "text/x-python",
   "name": "python",
   "nbconvert_exporter": "python",
   "pygments_lexer": "ipython3",
   "version": "3.6.8"
  }
 },
 "nbformat": 4,
 "nbformat_minor": 4
}
