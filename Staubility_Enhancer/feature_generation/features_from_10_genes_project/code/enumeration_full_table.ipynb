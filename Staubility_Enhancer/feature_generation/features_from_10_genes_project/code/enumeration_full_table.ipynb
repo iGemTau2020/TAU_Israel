{
 "cells": [
  {
   "cell_type": "code",
   "execution_count": 1,
   "metadata": {},
   "outputs": [],
   "source": [
    "import pandas as pd\n",
    "from os import chdir\n",
    "import re\n",
    "import sys"
   ]
  },
  {
   "cell_type": "code",
   "execution_count": 2,
   "metadata": {},
   "outputs": [],
   "source": [
    "### change to relevant directory\n",
    "directory =  r'../inputs'\n",
    "chdir(directory)"
   ]
  },
  {
   "cell_type": "code",
   "execution_count": 3,
   "metadata": {},
   "outputs": [],
   "source": [
    "### read table\n",
    "full_table_df = pd.read_csv(r'full_table.csv', index_col = 0)"
   ]
  },
  {
   "cell_type": "code",
   "execution_count": 4,
   "metadata": {},
   "outputs": [],
   "source": [
    "full_table_df.drop_duplicates(subset = 'ORF', inplace = True)"
   ]
  },
  {
   "cell_type": "code",
   "execution_count": 5,
   "metadata": {},
   "outputs": [],
   "source": [
    "### ignore parameters which are not numeric or location\n",
    "ignore_columns = ['Description', 'gene_sequence', 'protein_sequence', 'Gene Name', 'ORF']\n",
    "flourescence_columns = [\"N' TEF2pr-mCherry in SD Intensity\",\"N' TEF2pr-mCherry in SD Localization\",\n",
    "                        \"N' TEF2pr-VC and Cyto-VN in SD Intensity\",\"N' TEF2pr-VC and Cyto-VN in SD Localization\",\n",
    "                        \"N' NOP1pr-GFP in SD Intensity\",\"N' NOP1pr-GFP in SD Localization\",\n",
    "                        \"N' NATIVEpr-GFP in SD Intensity\", \"N' NATIVEpr-GFP in SD Localization\"]\n",
    "relevant_columns = [col for col in list(full_table_df) if (col not in ignore_columns) and (not col.startswith('Significance of')) \n",
    "                    and not col.startswith('Unnamed') and (col not in flourescence_columns)]\n",
    "\n",
    "table_to_normalize = full_table_df[relevant_columns].copy()\n"
   ]
  },
  {
   "cell_type": "code",
   "execution_count": 6,
   "metadata": {},
   "outputs": [],
   "source": [
    "### where there is more than one location, very inconsistent structure. this function normalizes to same\n",
    "#structure and sort the locations\n",
    "\n",
    "def take_care_of_duo_location(x):\n",
    "    split_x = re.split('[^a-zA-Z]', str(x))## search something which is not a char \n",
    "    split_x = [part for part in split_x if part!='']\n",
    "    sort_x = sorted(split_x)\n",
    "    joined_x = ','.join(sort_x)\n",
    "    return joined_x"
   ]
  },
  {
   "cell_type": "code",
   "execution_count": 7,
   "metadata": {},
   "outputs": [],
   "source": [
    "### this column will be compared against, so changed to standard format\n",
    "table_to_normalize['control_location'] = table_to_normalize['control_location'].apply(take_care_of_duo_location)\n"
   ]
  },
  {
   "cell_type": "code",
   "execution_count": 8,
   "metadata": {},
   "outputs": [],
   "source": [
    "### these columns will be referenced continually\n",
    "localization_cols = [col for col in relevant_columns if col.split(' ')[-1]=='Localization']\n",
    "\n",
    "for col in localization_cols:\n",
    "    ### standardize column\n",
    "    table_to_normalize[col] = table_to_normalize[col].apply(take_care_of_duo_location)\n",
    "    # get name for boolean 'has changed' column\n",
    "    temp_col = 'temp'\n",
    "    \n",
    "    # create column\n",
    "    table_to_normalize[temp_col] = (table_to_normalize[col]!=table_to_normalize['control_location']).astype(float)\n",
    "    # create one hot encoding\n",
    "    dummy_columns = pd.get_dummies(table_to_normalize[col], prefix = col).astype(float)\n",
    "    # add to table\n",
    "    table_to_normalize = pd.concat([table_to_normalize, dummy_columns], axis = 1)\n",
    "    del table_to_normalize[col]\n",
    "    table_to_normalize.rename(columns={temp_col:col}, inplace=True)"
   ]
  },
  {
   "cell_type": "code",
   "execution_count": 9,
   "metadata": {},
   "outputs": [],
   "source": [
    "# get dummies also for control location which doesnt include in relevant columns \n",
    "dummy_columns = pd.get_dummies(table_to_normalize['control_location'], prefix = 'control_location').astype(float)\n",
    "table_to_normalize = pd.concat([table_to_normalize, dummy_columns], axis = 1)\n",
    "del table_to_normalize['control_location']\n",
    "\n"
   ]
  },
  {
   "cell_type": "code",
   "execution_count": 10,
   "metadata": {},
   "outputs": [],
   "source": [
    "df_without_normalization = table_to_normalize"
   ]
  },
  {
   "cell_type": "code",
   "execution_count": 11,
   "metadata": {},
   "outputs": [],
   "source": [
    "#do gaussian normalization for all numerial columns without flourescence intensity\n",
    "table_normalized=(table_to_normalize-table_to_normalize.mean())/table_to_normalize.std()\n",
    "        \n",
    "### fill column with mean values\n",
    "table_normalized = table_normalized.fillna(table_normalized.mean())\n"
   ]
  },
  {
   "cell_type": "code",
   "execution_count": 12,
   "metadata": {},
   "outputs": [],
   "source": [
    "# Creating a function that creates a seperated table of each flourescence type that will be hidden from our predictor\n",
    "## inputs: 2 columns of flourescence intrnsity an flourescence Localization without normalization\n",
    "## output: a sepatatrated table contains ORF cloumn, flourescence intennsity and localization columns after one hot encoding.\n",
    "def creating_flourescence_table (flourescence_intensity, flourescence_localization):\n",
    "    flourescence_table= full_table_df[['ORF']].copy()\n",
    "    flourescence_table[flourescence_intensity] = full_table_df[flourescence_intensity]\n",
    "    flourescence_table[flourescence_localization] = full_table_df[flourescence_localization].apply(lambda x: take_care_of_duo_location(x))\n",
    "# create one hot encoding\n",
    "    dummy_columns = pd.get_dummies(flourescence_table[flourescence_localization], prefix=\"one_hot\").astype(float)\n",
    "    # add to table\n",
    "    flourescence_table = pd.concat([flourescence_table, dummy_columns], axis = 1)\n",
    "    del flourescence_table[flourescence_localization]\n",
    "    return flourescence_table\n"
   ]
  },
  {
   "cell_type": "code",
   "execution_count": 13,
   "metadata": {},
   "outputs": [],
   "source": [
    "# creat 4 new tables made of ORF and flourescence_columns without normalization\n",
    "flourescence_table_TEF2pr_mCherry = creating_flourescence_table(flourescence_columns[0], flourescence_columns[1])\n",
    "flourescence_table_TEF2pr_VC = creating_flourescence_table(flourescence_columns[2], flourescence_columns[3])\n",
    "flourescence_table_NOP1pr_GFP = creating_flourescence_table(flourescence_columns[4], flourescence_columns[5])\n",
    "flourescence_table_NATIVEpr_GFP = creating_flourescence_table(flourescence_columns[6], flourescence_columns[7])\n"
   ]
  },
  {
   "cell_type": "code",
   "execution_count": 14,
   "metadata": {},
   "outputs": [],
   "source": [
    "#name ORF as index of the main enumerated table\n",
    "table_normalized['ORF'] = full_table_df['ORF']\n",
    "table_normalized.set_index('ORF', inplace = True)\n",
    "df_without_normalization['ORF'] = full_table_df['ORF']\n",
    "df_without_normalization.set_index('ORF', inplace = True)"
   ]
  },
  {
   "cell_type": "code",
   "execution_count": 15,
   "metadata": {},
   "outputs": [],
   "source": [
    "# export to csv the main enumerated and the 4 flourescence tables\n",
    "table_normalized.to_csv('../outputs/normalized_table.csv')\n",
    "df_without_normalization.to_csv('../outputs/Not_normalized_table.csv')\n",
    "flourescence_table_TEF2pr_mCherry.to_csv('../outputs/flourescence_table_TEF2pr_mCherry.csv')\n",
    "flourescence_table_TEF2pr_VC.to_csv('../outputs/flourescence_table_TEF2pr_VC.csv')\n",
    "flourescence_table_NOP1pr_GFP.to_csv('../outputs/flourescence_table_NOP1pr_GFP.csv')\n",
    "flourescence_table_NATIVEpr_GFP.to_csv('../outputs/flourescence_table_NATIVEpr_GFP.csv')"
   ]
  },
  {
   "cell_type": "code",
   "execution_count": null,
   "metadata": {},
   "outputs": [],
   "source": []
  }
 ],
 "metadata": {
  "kernelspec": {
   "display_name": "Python 3",
   "language": "python",
   "name": "python3"
  },
  "language_info": {
   "codemirror_mode": {
    "name": "ipython",
    "version": 3
   },
   "file_extension": ".py",
   "mimetype": "text/x-python",
   "name": "python",
   "nbconvert_exporter": "python",
   "pygments_lexer": "ipython3",
   "version": "3.6.8"
  }
 },
 "nbformat": 4,
 "nbformat_minor": 4
}
