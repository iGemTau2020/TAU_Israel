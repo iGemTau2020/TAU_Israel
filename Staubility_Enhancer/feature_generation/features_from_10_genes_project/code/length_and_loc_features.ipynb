{
 "cells": [
  {
   "cell_type": "code",
   "execution_count": 1,
   "metadata": {},
   "outputs": [],
   "source": [
    "import pandas as pd\n",
    "from os import chdir\n",
    "\n"
   ]
  },
  {
   "cell_type": "code",
   "execution_count": 2,
   "metadata": {},
   "outputs": [],
   "source": [
    "\n",
    "### change directory - change to your DIR\n",
    "\n",
    "directory =  r'../inputs'\n",
    "chdir(directory)\n",
    "\n",
    "### input file\n",
    "\n",
    "gene_length_file = r'GeneCart24267_23-jan-2020.csv'\n",
    "reference_file = r'bio_features.csv'\n",
    "\n",
    "### chromosom length from NCBI - https://www.ncbi.nlm.nih.gov/genome/?term=Saccharomyces%20cerevisiae[Organism]&cmd=DetailsSearch\n",
    "\n",
    "chromosome_length_dict = {'I': 0.23, 'II': 0.81, 'III': 0.32, 'IV':1.53, 'V':0.58, 'VI':0.27, 'VII':1.09, 'VIII':0.56,\n",
    "                          'IX':0.44, 'X':0.75, 'XI':0.67, 'XII':1.08, 'XIII':0.92, 'XIV':0.78, 'XV':1.09, 'XVI':0.95}\n",
    "\n",
    "### import file\n",
    "\n",
    "df_gene_length = pd.read_csv(gene_length_file, usecols = ['Locus Tag', 'Gene Symbol', 'Chromosome', 'Start Coord', 'End Coord', 'Strand'])\n",
    "df_gene_length = df_gene_length.rename(columns = {'Locus Tag':'ORF', 'Gene Symbol':'Gene', 'Chromosome':'chromosome', 'Start Coord':'start_coord', 'End Coord':'end_coord', 'Strand':'strand'})\n",
    "\n",
    "df_reference = pd.read_csv(reference_file, usecols = ['ORF'])\n",
    "\n",
    "df_gene_length_merged = df_gene_length.merge(df_reference, on = 'ORF')\n",
    "df_gene_length_merged.loc[:, 'strand'] = df_gene_length_merged.loc[:, 'strand'].replace({'+':1, '-':-1})\n",
    "\n",
    "### calculating the gene's length\n",
    "df_gene_length_merged.loc[:, 'gene_length'] = df_gene_length.end_coord - df_gene_length.start_coord\n"
   ]
  },
  {
   "cell_type": "code",
   "execution_count": 3,
   "metadata": {},
   "outputs": [],
   "source": [
    "df_gene_length_merged['chromosome_num'] = df_gene_length_merged['chromosome'].str.split(expand=True)[1]\n"
   ]
  },
  {
   "cell_type": "code",
   "execution_count": 4,
   "metadata": {},
   "outputs": [],
   "source": [
    "df_gene_length_merged.loc[:, 'chromosome_length'] = df_gene_length_merged.loc[:, 'chromosome_num'].replace(chromosome_length_dict)*(10**6)\n",
    "### calculating where are the start and the stop coordinates in relation to the chromosome length\n",
    "df_gene_length_merged.loc[:, 'start_coord_perc'] = df_gene_length_merged['start_coord']/df_gene_length_merged['chromosome_length']\n",
    "df_gene_length_merged.loc[:, 'end_coord_perc'] = df_gene_length_merged['end_coord']/df_gene_length_merged['chromosome_length']\n",
    "df_gene_length_merged.loc[:, 'end_coord_perc_complement'] = 1-df_gene_length_merged['end_coord_perc']\n",
    "df_gene_length_merged.loc[:, 'start_coord_perc_complement'] = 1-df_gene_length_merged['start_coord_perc']\n",
    "\n",
    "\n",
    "df_gene_length_merged.loc[:, 'gene_distance_to_end_of_chromosome_near_end'] = df_gene_length_merged[['start_coord_perc','end_coord_perc_complement']].min(axis=1)\n",
    "df_gene_length_merged.loc[:, 'gene_distance_to_end_of_chromosome_far_end'] = df_gene_length_merged[['end_coord_perc','start_coord_perc_complement']].min(axis=1)\n",
    "\n",
    "df_gene_length_merged[['ORF', 'gene_length', 'gene_distance_to_end_of_chromosome_near_end', 'gene_distance_to_end_of_chromosome_far_end']].to_csv('../inputs/length_and_loc_features.csv')\n",
    "\n",
    "\n"
   ]
  },
  {
   "cell_type": "code",
   "execution_count": null,
   "metadata": {},
   "outputs": [],
   "source": []
  }
 ],
 "metadata": {
  "kernelspec": {
   "display_name": "Python 3",
   "language": "python",
   "name": "python3"
  },
  "language_info": {
   "codemirror_mode": {
    "name": "ipython",
    "version": 3
   },
   "file_extension": ".py",
   "mimetype": "text/x-python",
   "name": "python",
   "nbconvert_exporter": "python",
   "pygments_lexer": "ipython3",
   "version": "3.6.8"
  }
 },
 "nbformat": 4,
 "nbformat_minor": 4
}
