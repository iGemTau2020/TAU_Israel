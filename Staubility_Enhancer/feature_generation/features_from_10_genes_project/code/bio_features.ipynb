{
 "cells": [
  {
   "cell_type": "code",
   "execution_count": 1,
   "metadata": {},
   "outputs": [],
   "source": [
    "#!pip install Bio"
   ]
  },
  {
   "cell_type": "code",
   "execution_count": 7,
   "metadata": {},
   "outputs": [],
   "source": [
    "import pandas as pd\n",
    "from os import chdir\n",
    "from Bio import SeqIO\n",
    "from Bio import SeqUtils\n",
    "from Bio.SeqUtils import MeltingTemp as mt\n",
    "from Bio.SeqUtils import ProtParam, lcc\n",
    "import warnings\n",
    "from Bio import BiopythonWarning"
   ]
  },
  {
   "cell_type": "code",
   "execution_count": 8,
   "metadata": {},
   "outputs": [],
   "source": [
    "\n",
    "warnings.simplefilter('ignore', BiopythonWarning)"
   ]
  },
  {
   "cell_type": "code",
   "execution_count": 9,
   "metadata": {},
   "outputs": [],
   "source": [
    "directory = r'../inputs'\n",
    "\n",
    "chdir(directory)\n",
    "\n"
   ]
  },
  {
   "cell_type": "code",
   "execution_count": 5,
   "metadata": {},
   "outputs": [],
   "source": [
    "genetic_encoding_file = r'all_genes.fasta'\n",
    "\n",
    "def import_all_genes():\n",
    "### get sequence data\n",
    "    with open(genetic_encoding_file, 'r') as data:\n",
    "        gene_data = SeqIO.parse(data, 'fasta')\n",
    "        gene_data_list = list(gene_data)\n",
    "    return gene_data_list"
   ]
  },
  {
   "cell_type": "code",
   "execution_count": 6,
   "metadata": {},
   "outputs": [],
   "source": [
    "def generate_gene_features(gene_data_list):\n",
    "    all_genes_dict = dict()\n",
    "\n",
    "    for gene in gene_data_list:\n",
    "        curr_gene = dict()\n",
    "        \n",
    "        ### gene sequence\n",
    "        curr_gene['gene_sequence'] = str(gene.seq)\n",
    "        ### protein sequence\n",
    "        curr_gene['protein_sequence'] = str(gene.seq.translate())\n",
    "        ### gc content\n",
    "        curr_gene['gc_content_total'] = SeqUtils.GC(gene.seq)\n",
    "        ### gc in first, second, third codon\n",
    "        curr_gene['gc_content_1'] = SeqUtils.GC123(gene.seq)[1]\n",
    "        curr_gene['gc_content_2'] = SeqUtils.GC123(gene.seq)[2]\n",
    "        curr_gene['gc_content_3'] = SeqUtils.GC123(gene.seq)[3]\n",
    "        ### molecular weight\n",
    "        curr_gene['molecular_weight'] = SeqUtils.molecular_weight(gene.seq)\n",
    "        ### melting point, using nearest neighbour thermodynamics\n",
    "        curr_gene['MeltingPoint_NN'] = mt.Tm_NN(gene.seq)\n",
    "\n",
    "        ProtCalc = ProtParam.ProteinAnalysis(str(gene.seq.translate()))\n",
    "\n",
    "        curr_gene['aromaticity'] = ProtCalc.aromaticity()\n",
    "        curr_gene['isoelectric_point'] = ProtCalc.isoelectric_point()\n",
    "\n",
    "        curr_gene['helix_perc'] = ProtCalc.secondary_structure_fraction()[0]\n",
    "        curr_gene['turn_perc'] = ProtCalc.secondary_structure_fraction()[1]\n",
    "        curr_gene['sheet_perc'] = ProtCalc.secondary_structure_fraction()[2]\n",
    "\n",
    "        curr_gene['molar_extinction_coeffiecent_reduced'] = ProtCalc.molar_extinction_coefficient()[0]\n",
    "        curr_gene['molar_extinction_coeffiecent_oxidized'] = ProtCalc.molar_extinction_coefficient()[1]\n",
    "\n",
    "        curr_gene['local_complexity_coefficient_simple'] = lcc.lcc_simp(gene.seq)\n",
    "        ### Searching for repeating sequences\n",
    "        seq_str = str(gene.seq)\n",
    "        counter = 0.0\n",
    "        for ii in range(len(seq_str)-1):\n",
    "            if seq_str[ii]==seq_str[ii+1]:\n",
    "                counter+=1.0\n",
    "        curr_gene['percent_duplicate_dna'] = counter/(len(seq_str)-1)\n",
    "\n",
    "\n",
    "        all_genes_dict[gene.id] = curr_gene\n",
    "\n",
    "    ### table summarizing genes\n",
    "    gene_data_df = pd.DataFrame.from_dict(all_genes_dict, orient = 'index').reset_index().rename(columns={'index':'ORF'})\n",
    "    return gene_data_df"
   ]
  },
  {
   "cell_type": "code",
   "execution_count": 7,
   "metadata": {},
   "outputs": [],
   "source": [
    "def main():\n",
    "    gene_data_list = import_all_genes()\n",
    "    gene_data_df = generate_gene_features(gene_data_list)\n",
    "    gene_data_df.to_csv(r'../inputs/bio_features.csv')\n",
    "main()\n"
   ]
  },
  {
   "cell_type": "code",
   "execution_count": null,
   "metadata": {},
   "outputs": [],
   "source": []
  },
  {
   "cell_type": "code",
   "execution_count": null,
   "metadata": {},
   "outputs": [],
   "source": []
  }
 ],
 "metadata": {
  "kernelspec": {
   "display_name": "Python 3",
   "language": "python",
   "name": "python3"
  },
  "language_info": {
   "codemirror_mode": {
    "name": "ipython",
    "version": 3
   },
   "file_extension": ".py",
   "mimetype": "text/x-python",
   "name": "python",
   "nbconvert_exporter": "python",
   "pygments_lexer": "ipython3",
   "version": "3.6.8"
  }
 },
 "nbformat": 4,
 "nbformat_minor": 4
}
