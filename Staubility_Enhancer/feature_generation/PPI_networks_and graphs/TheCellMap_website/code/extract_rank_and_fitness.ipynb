{
 "cells": [
  {
   "cell_type": "code",
   "execution_count": 1,
   "metadata": {},
   "outputs": [],
   "source": [
    "## This script creates the following features: rank of a gene, weighted rank, single mutant fitness (SMF) \n",
    "## and double mutant fitness (DMF) \n",
    "## the data was taken from TheCellMap website"
   ]
  },
  {
   "cell_type": "code",
   "execution_count": 2,
   "metadata": {},
   "outputs": [],
   "source": [
    "import pandas as pd\n",
    "from os import chdir\n",
    "import numpy as np"
   ]
  },
  {
   "cell_type": "code",
   "execution_count": 3,
   "metadata": {},
   "outputs": [],
   "source": [
    "directory = r'../inputs'\n",
    "\n",
    "chdir(directory)"
   ]
  },
  {
   "cell_type": "code",
   "execution_count": 4,
   "metadata": {},
   "outputs": [],
   "source": [
    "## Input: data in txt file\n",
    "## Output: table wich contains 6 columns: ORF, query gene, array strain gene genetic interaction score,\n",
    "##single mutant fitness (SMF), double mutant fitness (DMF)\n",
    "def extract_relevant_cols(file_name):\n",
    "    data = pd.read_csv(file_name, sep=\"\\t\" )\n",
    "    data.rename(columns={'Genetic interaction score (ε)':'weight'}, inplace=True)\n",
    "    #del data_relevant_cols['Quetry Strain ID','Array Strain ID']\n",
    "    relevant_cols = ['Query Strain ID','Array Strain ID', 'weight', 'Query single mutant fitness (SMF)',\n",
    "                    'Array SMF', 'Double mutant fitness']\n",
    "    # purifying the systemic name- cut the name after the 7'th character.\n",
    "    data['Query Strain ID'] = data['Query Strain ID'].str.split('_', expand=True)[0]\n",
    "    data['Array Strain ID'] = data['Array Strain ID'].str.split('_', expand=True)[0]\n",
    "    relevant_cols_df = data[relevant_cols]\n",
    "    return relevant_cols_df\n"
   ]
  },
  {
   "cell_type": "code",
   "execution_count": 5,
   "metadata": {
    "scrolled": true
   },
   "outputs": [],
   "source": [
    "EXE = extract_relevant_cols('SGA_ExE.txt')\n",
    "NXN = extract_relevant_cols('SGA_NxN.txt')\n",
    "EXN_NXE = extract_relevant_cols('SGA_ExN_NxE.txt')\n",
    "big_df = pd.concat([EXE, NXN, EXN_NXE])\n",
    "big_df.sort_values(by =['Query Strain ID', 'Array Strain ID'], inplace=True)\n",
    "big_df.to_hdf('whole_data.h5', key='df')\n",
    "unite_df = pd.read_hdf('whole_data.h5', key='df')"
   ]
  },
  {
   "cell_type": "code",
   "execution_count": 6,
   "metadata": {
    "scrolled": false
   },
   "outputs": [],
   "source": [
    "# Extracting single mutant fitness (SMF) feature from Array and Query columns\n",
    "def smf_feature(relevant_cols_df):\n",
    "    \n",
    "    genes = unite_df['Query Strain ID']\n",
    "    genes = genes.append(unite_df['Array Strain ID'], ignore_index=True)\n",
    "    values = unite_df['Query single mutant fitness (SMF)']\n",
    "    values = values.append(unite_df['Array SMF'], ignore_index=True)\n",
    "    smf_df = pd.concat([genes, values], axis=1)\n",
    "    smf_df.columns = ['genes', 'value']\n",
    "    smf_df = smf_df.groupby('genes').mean()\n",
    "    smf_df.columns = ['smf']\n",
    "    return smf_df\n"
   ]
  },
  {
   "cell_type": "code",
   "execution_count": 7,
   "metadata": {},
   "outputs": [],
   "source": [
    "smf_df = smf_feature(unite_df)\n"
   ]
  },
  {
   "cell_type": "code",
   "execution_count": 8,
   "metadata": {},
   "outputs": [],
   "source": [
    "# This function build an adjacency matrix of source and dest columns with option to have value to their connection\n",
    "def smart_crosstab(df, source, dest, values=None):\n",
    "    if values is None:\n",
    "        df = df.drop_duplicates(subset=[source, dest])\n",
    "        df = pd.crosstab(df[source], df[dest])\n",
    "    else:\n",
    "        df = pd.crosstab(df[source], df[dest], values=df[values], aggfunc='mean')\n",
    "    idx = df.columns.union(df.index)\n",
    "    df = df.reindex(index = idx, columns=idx, fill_value=0)\n",
    "    df.fillna(0, inplace=True)\n",
    "    upper_triangle = pd.DataFrame(np.triu(df.values), index=df.index, columns=df.columns)\n",
    "    lower_triangle = pd.DataFrame(np.tril(df.values), index=df.index, columns=df.columns)\n",
    "    lower_triangle = lower_triangle.T\n",
    "    return upper_triangle, lower_triangle"
   ]
  },
  {
   "cell_type": "code",
   "execution_count": 9,
   "metadata": {},
   "outputs": [],
   "source": [
    "## creating crosstab to calculate rank - number of interaction per gene from the smart-crossrtab\n",
    "def calc_rank(unite_df):\n",
    "    df = unite_df[['Query Strain ID', 'Array Strain ID']]\n",
    "    return smart_crosstab(df, 'Query Strain ID', 'Array Strain ID')\n",
    "    "
   ]
  },
  {
   "cell_type": "code",
   "execution_count": 10,
   "metadata": {},
   "outputs": [],
   "source": [
    "# The values of the feature per gene is the sum of row and column of the gene (after spliting to triangles matrices and transpose the lower triangle)\n",
    "def adding_feature_per_gene(feature_crosstab,name_of_feature,weighted_option = False):\n",
    "    sum_on_rows = feature_crosstab.sum(axis = 1)\n",
    "    sum_on_cols = feature_crosstab.sum(axis = 0)\n",
    "    feature_array = np.zeros(feature_crosstab.shape[0])\n",
    "    for i in range(feature_crosstab.shape[0]):\n",
    "        feature_array [i] = sum_on_rows[i] + sum_on_cols[i]\n",
    "    if weighted_option is True:\n",
    "        abs_max_value = abs(max(feature_array, key=abs))\n",
    "        feature_array = feature_array / (abs_max_value) \n",
    "    feature_df= pd.DataFrame(data=feature_array, index=smf_df.index, columns=[name_of_feature])\n",
    "    return feature_df\n",
    "    "
   ]
  },
  {
   "cell_type": "code",
   "execution_count": 11,
   "metadata": {},
   "outputs": [
    {
     "name": "stderr",
     "output_type": "stream",
     "text": [
      "\n",
      "KeyboardInterrupt\n",
      "\n"
     ]
    }
   ],
   "source": [
    "# calling the functions above:\n",
    "## firt calculating rank_df\n",
    "upper_triangle, lower_triangle = calc_rank(unite_df)\n",
    "rank_cross = upper_triangle.astype(bool) | lower_triangle.astype(bool)\n",
    "rank_df = adding_feature_per_gene(rank_cross,'rank', False)\n",
    "\n"
   ]
  },
  {
   "cell_type": "code",
   "execution_count": null,
   "metadata": {},
   "outputs": [],
   "source": [
    "# other features using the rank_df values so we normalize the rank matrix\n",
    "normalization_matrix = upper_triangle + lower_triangle\n",
    "normalization_matrix.replace(0, 1, inplace=True)\n"
   ]
  },
  {
   "cell_type": "code",
   "execution_count": null,
   "metadata": {},
   "outputs": [],
   "source": [
    "# Calculating othe features:\n",
    "## DMF\n",
    "def calc_dmf(unite_df, normalization_matrix):\n",
    "    df = unite_df[['Query Strain ID', 'Array Strain ID', 'Double mutant fitness']].groupby(['Query Strain ID', 'Array Strain ID']).mean()\n",
    "    df.reset_index(inplace=True)\n",
    "    triang_up, triang_down = smart_crosstab(df, 'Query Strain ID', 'Array Strain ID', 'Double mutant fitness')\n",
    "    return (triang_up + triang_down) / normalization_matrix\n",
    "dmf = calc_dmf(unite_df, normalization_matrix)"
   ]
  },
  {
   "cell_type": "code",
   "execution_count": null,
   "metadata": {},
   "outputs": [],
   "source": [
    "## Creating cross-tab for positive and negative rank \n",
    "def calc_positive(unite_df):\n",
    "    df = unite_df[['Query Strain ID', 'Array Strain ID', 'weight']]\n",
    "    df = df[df['weight'] > 0]\n",
    "    df.reset_index(inplace=True)\n",
    "    triang_up, triang_down = smart_crosstab(df, 'Query Strain ID', 'Array Strain ID', 'weight')\n",
    "    return (triang_up + triang_down) / normalization_matrix\n",
    "\n",
    "\n",
    "def calc_negative(unite_df):\n",
    "    df = unite_df[['Query Strain ID', 'Array Strain ID', 'weight']]\n",
    "    df = df[df['weight'] < 0]\n",
    "    df.reset_index(inplace=True)\n",
    "    triang_up, triang_down = smart_crosstab(df, 'Query Strain ID', 'Array Strain ID', 'weight')\n",
    "    return (triang_up + triang_down) / normalization_matrix\n",
    "    \n",
    "    \n"
   ]
  },
  {
   "cell_type": "code",
   "execution_count": null,
   "metadata": {
    "scrolled": true
   },
   "outputs": [],
   "source": [
    "positive_rank = calc_positive(unite_df)\n",
    "negative_rank = calc_negative(unite_df)"
   ]
  },
  {
   "cell_type": "code",
   "execution_count": null,
   "metadata": {},
   "outputs": [],
   "source": [
    "# calculation  of the features acoording to the functions\n",
    "final_dmf_df = adding_feature_per_gene(dmf,'dmf',True)\n",
    "final_positive_rank_df = adding_feature_per_gene(positive_rank,'positive_rank',True)\n",
    "final_negative_rank_df = adding_feature_per_gene(negative_rank,'negative_rank',True)\n",
    "final_df = pd.concat([smf_df, final_dmf_df, rank_df, final_positive_rank_df,final_negative_rank_df], axis=1)\n",
    "# normalizing weighted features by number of interactions i.e rank of each gene\n",
    "final_df['dmf'] = final_df['dmf'] / final_df['rank']\n",
    "final_df['positive_weighted_rank'] = final_df['positive_rank'] / final_df['rank']\n",
    "final_df['negative_weighted_rank'] = final_df['negative_rank'] / final_df['rank']\n",
    "final_df['absolute_weighted_rank'] = final_df['positive_weighted_rank'] + final_df['negative_weighted_rank'].abs()\n",
    "final_df = final_df.fillna(0)"
   ]
  },
  {
   "cell_type": "code",
   "execution_count": 194,
   "metadata": {},
   "outputs": [],
   "source": [
    "final_df.to_csv('../outputs/not_normalized_smf_dmf_ranks_feature.csv')"
   ]
  }
 ],
 "metadata": {
  "kernelspec": {
   "display_name": "Python 3",
   "language": "python",
   "name": "python3"
  },
  "language_info": {
   "codemirror_mode": {
    "name": "ipython",
    "version": 3
   },
   "file_extension": ".py",
   "mimetype": "text/x-python",
   "name": "python",
   "nbconvert_exporter": "python",
   "pygments_lexer": "ipython3",
   "version": "3.6.8"
  }
 },
 "nbformat": 4,
 "nbformat_minor": 4
}
